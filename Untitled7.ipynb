{
  "nbformat": 4,
  "nbformat_minor": 0,
  "metadata": {
    "colab": {
      "provenance": [],
      "authorship_tag": "ABX9TyN42OguSemYjnslapLVPtw8",
      "include_colab_link": true
    },
    "kernelspec": {
      "name": "python3",
      "display_name": "Python 3"
    },
    "language_info": {
      "name": "python"
    }
  },
  "cells": [
    {
      "cell_type": "markdown",
      "metadata": {
        "id": "view-in-github",
        "colab_type": "text"
      },
      "source": [
        "<a href=\"https://colab.research.google.com/github/PERDOMs/PARCIAL-N-2/blob/main/Untitled7.ipynb\" target=\"_parent\"><img src=\"https://colab.research.google.com/assets/colab-badge.svg\" alt=\"Open In Colab\"/></a>"
      ]
    },
    {
      "cell_type": "code",
      "execution_count": 43,
      "metadata": {
        "colab": {
          "base_uri": "https://localhost:8080/",
          "height": 228
        },
        "id": "BS17WzWRSztb",
        "outputId": "3e74c514-2835-4124-c273-a552bdb80cdf"
      },
      "outputs": [
        {
          "name": "stdout",
          "output_type": "stream",
          "text": [
            "ingrese la distancia recorrida en kilometros:8\n",
            "ingrese el tiempo de detencion en minutos:5\n",
            "ingrese la hora inicio del viaje(formato 24h)21\n"
          ]
        },
        {
          "output_type": "error",
          "ename": "TypeError",
          "evalue": "'float' object is not callable",
          "traceback": [
            "\u001b[0;31m---------------------------------------------------------------------------\u001b[0m",
            "\u001b[0;31mTypeError\u001b[0m                                 Traceback (most recent call last)",
            "\u001b[0;32m<ipython-input-43-13c9bed9fb48>\u001b[0m in \u001b[0;36m<cell line: 38>\u001b[0;34m()\u001b[0m\n\u001b[1;32m     36\u001b[0m \u001b[0;34m\u001b[0m\u001b[0m\n\u001b[1;32m     37\u001b[0m \u001b[0;31m#mostrar el total a pagar\u001b[0m\u001b[0;34m\u001b[0m\u001b[0;34m\u001b[0m\u001b[0m\n\u001b[0;32m---> 38\u001b[0;31m \u001b[0mprint\u001b[0m\u001b[0;34m(\u001b[0m\u001b[0;34m\"el total a pagar por el viaje es:$\"\u001b[0m \u001b[0;34m,\u001b[0m\u001b[0msubtotal\u001b[0m\u001b[0;34m)\u001b[0m\u001b[0;34m\u001b[0m\u001b[0;34m\u001b[0m\u001b[0m\n\u001b[0m",
            "\u001b[0;31mTypeError\u001b[0m: 'float' object is not callable"
          ]
        }
      ],
      "source": [
        "#definir variables\n",
        "\n",
        "TARIFA_BASE= 6000\n",
        "TARIFA_1= 1500\n",
        "TARIFA_2= 1200\n",
        "TARIFA_3=1000\n",
        "TARIFA_TIEMPO= 400\n",
        "TAFIRA_RECARGONOCT= 0.20\n",
        "#obtener las entradas.\n",
        "distancia= float(input(\"ingrese la distancia recorrida en kilometros:\"))\n",
        "\n",
        "TIEMPO_DETENCION= int(input(\"ingrese el tiempo de detencion en minutos:\"))\n",
        "\n",
        "HORA_INICIO= int(input(\"ingrese la hora inicio del viaje(formato 24h)\"))\n",
        "\n",
        "#calcular la tarifa por distancia recorida\n",
        "if distancia <= 5:\n",
        "  costo_kilometro = distancia * TARIFA_1\n",
        "elif distancia <= 15:\n",
        "  costo_kilometro = (5 * TARIFA_1) + ((distancia - 5) * TARIFA_2)\n",
        "else:\n",
        "  costo_kilometro = (5 * TARIFA_1) + (10 * TARIFA_2) + ((distancia - 15) * TARIFA_3)\n",
        "\n",
        "#calcular la tarifa por tiempo de deteccion\n",
        "#tiempo de detencion\n",
        "COSTO_DETENCION=  TIEMPO_DETENCION * TARIFA_TIEMPO\n",
        "\n",
        "#calcular subtotal\n",
        "subtotal= TARIFA_BASE + costo_kilometro + COSTO_DETENCION\n",
        "\n",
        "#aplicar recargo nocturno si es necesario\n",
        "if HORA_INICIO >= 22 or HORA_INICIO <6:\n",
        "  total_a_pagar= subtotal*(1+RECARGO_NOCTUNO)\n",
        "else:\n",
        "  total_a_pagar = subtotal\n",
        "\n",
        "#mostrar el total a pagar\n",
        "print(\"el total a pagar por el viaje es:$\" ,subtotal)"
      ]
    }
  ]
}