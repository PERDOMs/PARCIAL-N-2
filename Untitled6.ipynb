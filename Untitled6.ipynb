{
  "nbformat": 4,
  "nbformat_minor": 0,
  "metadata": {
    "colab": {
      "provenance": [],
      "authorship_tag": "ABX9TyNduuLbi9MSjfQriJflSaTb",
      "include_colab_link": true
    },
    "kernelspec": {
      "name": "python3",
      "display_name": "Python 3"
    },
    "language_info": {
      "name": "python"
    }
  },
  "cells": [
    {
      "cell_type": "markdown",
      "metadata": {
        "id": "view-in-github",
        "colab_type": "text"
      },
      "source": [
        "<a href=\"https://colab.research.google.com/github/PERDOMs/PARCIAL-N-2/blob/main/Untitled6.ipynb\" target=\"_parent\"><img src=\"https://colab.research.google.com/assets/colab-badge.svg\" alt=\"Open In Colab\"/></a>"
      ]
    },
    {
      "cell_type": "markdown",
      "source": [
        "algoritmo para calcular la tarifa de un taxi\n",
        "1. iniciar.\n",
        "2. obtener distancia recorrida en kilómetros.\n",
        "3. obtener tiempo detenido en minutos.\n",
        "4. obtener hora de inicio del viaje en formato 24 horas.\n",
        "5. si la distancia recorrida es menor de 5km la tarifa será 1500$ por km, si la distancia esta entre 5 km y 15 km la tarifa será de 1200$ por km, y si la distancia supera los 15 km la tarifa será de 1000$ por km; si durante la carrera el taxi se detuvo, se cobrara una tarifa de 400$ por minuto; si la carrera trascurre entre las 22:00 y 6:00 se cobrara un recargo nocturno del 20% sobre el valor total.\n",
        "6. calcular el valor de la tarifa total, sumando la tarifa base, la tarifa por km, la tarifa por tiempo de detención, mas la tarifa por el recargo nocturno.\n",
        "7. mostrar la tarifa total del servicio.\n",
        "8. finalizar.\n",
        "\n"
      ],
      "metadata": {
        "id": "A7ouse1cQp8K"
      }
    },
    {
      "cell_type": "markdown",
      "source": [
        "```\n",
        "seudocódigo\n",
        "Program calcularTarifaTaxi\n",
        "Start\n",
        "    // Definir constantes\n",
        "    Constant Float TARIFA_BASE = 6000.0\n",
        "    Constant Float TARIFA_1 = 1500.0\n",
        "    Constant Float TARIFA_2 = 1200.0\n",
        "    Constant Float TARIFA_3 = 1000.0\n",
        "    Constant Float TARIFA_TIEMPO = 400.0\n",
        "    Constant Float RECARGO_NOCTURNO = 0.20\n",
        "\n",
        "    // Declarar variables\n",
        "    Declare Float distancia\n",
        "    Declare Integer tiempo_detencion\n",
        "    Declare Integer hora_inicio\n",
        "    Declare Float costo_kilometros\n",
        "    Declare Float costo_detencion\n",
        "    Declare Float subtotal\n",
        "    Declare Float total_a_pagar\n",
        "\n",
        "    // Obtener las entradas\n",
        "    Display \"Ingrese la distancia recorrida en kilómetros: \"\n",
        "    Input distancia\n",
        "    Display \"Ingrese el tiempo de detención en minutos: \"\n",
        "    Input tiempo_detencion\n",
        "    Display \"Ingrese la hora de inicio del viaje (formato 24 horas): \"\n",
        "    Input hora_inicio\n",
        "\n",
        "    // Calcular la tarifa por distancia recorrida\n",
        "    If distancia <= 5 Then\n",
        "        Set costo_kilometros = distancia * TARIFA_1\n",
        "    Else If distancia <= 15 Then\n",
        "        Set costo_kilometros = (5 * TARIFA_1) + ((distancia - 5) * TARIFA_2)\n",
        "    Else\n",
        "        Set costo_kilometros = (5 * TARIFA_1) + (10 * TARIFA_2) + ((distancia - 15) * TARIFA_3)\n",
        "    End If\n",
        "\n",
        "    // Calcular la tarifa por tiempo de detención\n",
        "    Set costo_detencion = tiempo_detencion * TARIFA_TIEMPO\n",
        "\n",
        "    // Calcular el subtotal\n",
        "    Set subtotal = TARIFA_BASE + costo_kilometros + costo_detencion\n",
        "\n",
        "    // Aplicar recargo nocturno si es necesario\n",
        "    If hora_inicio >= 22 Or hora_inicio < 6 Then\n",
        "        Set total_a_pagar = subtotal * (1 + RECARGO_NOCTURNO)\n",
        "    Else\n",
        "        Set total_a_pagar = subtotal\n",
        "    End If\n",
        "\n",
        "    // Mostrar el total a pagar\n",
        "    Display \"El total a pagar por el viaje en taxi es: \", total_a_pagar, \" COP\"\n",
        "End\n",
        "\n",
        "```"
      ],
      "metadata": {
        "id": "_NXWF7sRURQ6"
      }
    }
  ]
}